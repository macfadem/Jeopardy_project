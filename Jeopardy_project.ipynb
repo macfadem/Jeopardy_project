{
 "cells": [
  {
   "cell_type": "markdown",
   "id": "b77e1814",
   "metadata": {},
   "source": [
    "# Jeopardy! Project"
   ]
  },
  {
   "cell_type": "markdown",
   "id": "588593fe",
   "metadata": {},
   "source": [
    "The objective of this project was to explore and play with a rich dataset of the reality TV show, *Jeopardy!* and demonstrate the use of pandas with Python."
   ]
  },
  {
   "cell_type": "code",
   "execution_count": 30,
   "id": "0c4cd7c8",
   "metadata": {},
   "outputs": [
    {
     "name": "stdout",
     "output_type": "stream",
     "text": [
      "Index(['Show Number', ' Air Date', ' Round', ' Category', ' Value',\n",
      "       ' Question', ' Answer'],\n",
      "      dtype='object')\n"
     ]
    }
   ],
   "source": [
    "import pandas as pd\n",
    "pd.set_option('display.max_colwidth', None)\n",
    "\n",
    "jeopardy_data = pd.read_csv(\"jeopardy.csv\")\n",
    "print(jeopardy_data.columns)"
   ]
  },
  {
   "cell_type": "markdown",
   "id": "19e09698",
   "metadata": {},
   "source": [
    "It appears that the columns on the data file have an extra ' ' in the beggining, let's correct that and reescribe the names so it is easier to manipulate them later."
   ]
  },
  {
   "cell_type": "code",
   "execution_count": 31,
   "id": "a4e971a4",
   "metadata": {},
   "outputs": [
    {
     "name": "stdout",
     "output_type": "stream",
     "text": [
      "Index(['show_number', 'air_date', 'round', 'category', 'value', 'question',\n",
      "       'answer'],\n",
      "      dtype='object')\n"
     ]
    }
   ],
   "source": [
    "jeopardy_data = jeopardy_data.rename(columns = {\"Show Number\": \"show_number\", \" Air Date\": \"air_date\", \" Round\" : \"round\", \" Category\": \"category\", \" Value\": \"value\", \" Question\": \"question\", \" Answer\": \"answer\"})\n",
    "print(jeopardy_data.columns)"
   ]
  },
  {
   "cell_type": "markdown",
   "id": "5f28dc62",
   "metadata": {},
   "source": [
    "Now, so we can understand better what is in each column, let's print the first 6 lines of the dataset:"
   ]
  },
  {
   "cell_type": "code",
   "execution_count": 32,
   "id": "54d7c075",
   "metadata": {},
   "outputs": [
    {
     "data": {
      "text/html": [
       "<div>\n",
       "<style scoped>\n",
       "    .dataframe tbody tr th:only-of-type {\n",
       "        vertical-align: middle;\n",
       "    }\n",
       "\n",
       "    .dataframe tbody tr th {\n",
       "        vertical-align: top;\n",
       "    }\n",
       "\n",
       "    .dataframe thead th {\n",
       "        text-align: right;\n",
       "    }\n",
       "</style>\n",
       "<table border=\"1\" class=\"dataframe\">\n",
       "  <thead>\n",
       "    <tr style=\"text-align: right;\">\n",
       "      <th></th>\n",
       "      <th>show_number</th>\n",
       "      <th>air_date</th>\n",
       "      <th>round</th>\n",
       "      <th>category</th>\n",
       "      <th>value</th>\n",
       "      <th>question</th>\n",
       "      <th>answer</th>\n",
       "    </tr>\n",
       "  </thead>\n",
       "  <tbody>\n",
       "    <tr>\n",
       "      <th>0</th>\n",
       "      <td>4680</td>\n",
       "      <td>2004-12-31</td>\n",
       "      <td>Jeopardy!</td>\n",
       "      <td>HISTORY</td>\n",
       "      <td>$200</td>\n",
       "      <td>For the last 8 years of his life, Galileo was under house arrest for espousing this man's theory</td>\n",
       "      <td>Copernicus</td>\n",
       "    </tr>\n",
       "    <tr>\n",
       "      <th>1</th>\n",
       "      <td>4680</td>\n",
       "      <td>2004-12-31</td>\n",
       "      <td>Jeopardy!</td>\n",
       "      <td>ESPN's TOP 10 ALL-TIME ATHLETES</td>\n",
       "      <td>$200</td>\n",
       "      <td>No. 2: 1912 Olympian; football star at Carlisle Indian School; 6 MLB seasons with the Reds, Giants &amp; Braves</td>\n",
       "      <td>Jim Thorpe</td>\n",
       "    </tr>\n",
       "    <tr>\n",
       "      <th>2</th>\n",
       "      <td>4680</td>\n",
       "      <td>2004-12-31</td>\n",
       "      <td>Jeopardy!</td>\n",
       "      <td>EVERYBODY TALKS ABOUT IT...</td>\n",
       "      <td>$200</td>\n",
       "      <td>The city of Yuma in this state has a record average of 4,055 hours of sunshine each year</td>\n",
       "      <td>Arizona</td>\n",
       "    </tr>\n",
       "    <tr>\n",
       "      <th>3</th>\n",
       "      <td>4680</td>\n",
       "      <td>2004-12-31</td>\n",
       "      <td>Jeopardy!</td>\n",
       "      <td>THE COMPANY LINE</td>\n",
       "      <td>$200</td>\n",
       "      <td>In 1963, live on \"The Art Linkletter Show\", this company served its billionth burger</td>\n",
       "      <td>McDonald's</td>\n",
       "    </tr>\n",
       "    <tr>\n",
       "      <th>4</th>\n",
       "      <td>4680</td>\n",
       "      <td>2004-12-31</td>\n",
       "      <td>Jeopardy!</td>\n",
       "      <td>EPITAPHS &amp; TRIBUTES</td>\n",
       "      <td>$200</td>\n",
       "      <td>Signer of the Dec. of Indep., framer of the Constitution of Mass., second President of the United States</td>\n",
       "      <td>John Adams</td>\n",
       "    </tr>\n",
       "    <tr>\n",
       "      <th>5</th>\n",
       "      <td>4680</td>\n",
       "      <td>2004-12-31</td>\n",
       "      <td>Jeopardy!</td>\n",
       "      <td>3-LETTER WORDS</td>\n",
       "      <td>$200</td>\n",
       "      <td>In the title of an Aesop fable, this insect shared billing with a grasshopper</td>\n",
       "      <td>the ant</td>\n",
       "    </tr>\n",
       "  </tbody>\n",
       "</table>\n",
       "</div>"
      ],
      "text/plain": [
       "   show_number    air_date      round                         category value  \\\n",
       "0         4680  2004-12-31  Jeopardy!                          HISTORY  $200   \n",
       "1         4680  2004-12-31  Jeopardy!  ESPN's TOP 10 ALL-TIME ATHLETES  $200   \n",
       "2         4680  2004-12-31  Jeopardy!      EVERYBODY TALKS ABOUT IT...  $200   \n",
       "3         4680  2004-12-31  Jeopardy!                 THE COMPANY LINE  $200   \n",
       "4         4680  2004-12-31  Jeopardy!              EPITAPHS & TRIBUTES  $200   \n",
       "5         4680  2004-12-31  Jeopardy!                   3-LETTER WORDS  $200   \n",
       "\n",
       "                                                                                                      question  \\\n",
       "0             For the last 8 years of his life, Galileo was under house arrest for espousing this man's theory   \n",
       "1  No. 2: 1912 Olympian; football star at Carlisle Indian School; 6 MLB seasons with the Reds, Giants & Braves   \n",
       "2                     The city of Yuma in this state has a record average of 4,055 hours of sunshine each year   \n",
       "3                         In 1963, live on \"The Art Linkletter Show\", this company served its billionth burger   \n",
       "4     Signer of the Dec. of Indep., framer of the Constitution of Mass., second President of the United States   \n",
       "5                                In the title of an Aesop fable, this insect shared billing with a grasshopper   \n",
       "\n",
       "       answer  \n",
       "0  Copernicus  \n",
       "1  Jim Thorpe  \n",
       "2     Arizona  \n",
       "3  McDonald's  \n",
       "4  John Adams  \n",
       "5     the ant  "
      ]
     },
     "execution_count": 32,
     "metadata": {},
     "output_type": "execute_result"
    }
   ],
   "source": [
    "jeopardy_data.head(6)"
   ]
  },
  {
   "cell_type": "markdown",
   "id": "230c9844",
   "metadata": {},
   "source": [
    "It's better to understand now what is happening in this data and what we can search for. To have more information we can use the .dtypes() function to view some more information about the data."
   ]
  },
  {
   "cell_type": "code",
   "execution_count": 33,
   "id": "b619478a",
   "metadata": {
    "scrolled": true
   },
   "outputs": [
    {
     "data": {
      "text/plain": [
       "show_number     int64\n",
       "air_date       object\n",
       "round          object\n",
       "category       object\n",
       "value          object\n",
       "question       object\n",
       "answer         object\n",
       "dtype: object"
      ]
     },
     "execution_count": 33,
     "metadata": {},
     "output_type": "execute_result"
    }
   ],
   "source": [
    "jeopardy_data.dtypes"
   ]
  },
  {
   "cell_type": "markdown",
   "id": "57dedbbf",
   "metadata": {},
   "source": [
    "It looks like not all the data is in its ideal format, let's change the date first and see how it looks:"
   ]
  },
  {
   "cell_type": "code",
   "execution_count": 42,
   "id": "f2a1d2ee",
   "metadata": {},
   "outputs": [
    {
     "name": "stdout",
     "output_type": "stream",
     "text": [
      "0   2004-12-31\n",
      "1   2004-12-31\n",
      "2   2004-12-31\n",
      "3   2004-12-31\n",
      "4   2004-12-31\n",
      "Name: air_date, dtype: datetime64[ns]\n"
     ]
    }
   ],
   "source": [
    "jeopardy_data.air_date = pd.to_datetime(jeopardy_data.air_date)\n",
    "print(jeopardy_data.air_date.head())"
   ]
  },
  {
   "cell_type": "markdown",
   "id": "b4e2d968",
   "metadata": {},
   "source": [
    "The information still the same but now we can work better with the date format.\n",
    "\n",
    "Let's discover how many questions we have in this dataset for each year:"
   ]
  },
  {
   "cell_type": "code",
   "execution_count": 44,
   "id": "0b363875",
   "metadata": {},
   "outputs": [
    {
     "data": {
      "text/plain": [
       "air_date\n",
       "1984     1179\n",
       "1985      888\n",
       "1986     1409\n",
       "1987     1275\n",
       "1988     1290\n",
       "1989     2067\n",
       "1990     4337\n",
       "1991     1444\n",
       "1992     1885\n",
       "1993     2132\n",
       "1994     1136\n",
       "1995     1138\n",
       "1996     4891\n",
       "1997    13099\n",
       "1998    13143\n",
       "1999    13540\n",
       "2000    13439\n",
       "2001    12097\n",
       "2002     6859\n",
       "2003     9425\n",
       "2004    13190\n",
       "2005    13560\n",
       "2006    13726\n",
       "2007    13940\n",
       "2008    14036\n",
       "2009    13579\n",
       "2010    13756\n",
       "2011    13375\n",
       "2012     1093\n",
       "Name: answer, dtype: int64"
      ]
     },
     "execution_count": 44,
     "metadata": {},
     "output_type": "execute_result"
    }
   ],
   "source": [
    "jeopardy_data.groupby(jeopardy_data[\"air_date\"].dt.year).answer.count()"
   ]
  },
  {
   "cell_type": "markdown",
   "id": "8c94210a",
   "metadata": {},
   "source": [
    "In 2012 the number suddenly drops, it's value is almost 1/12 of the values from just some years before, maybe it's because the data only has until January. But we can confirm that:"
   ]
  },
  {
   "cell_type": "code",
   "execution_count": 47,
   "id": "a6f7373a",
   "metadata": {},
   "outputs": [
    {
     "data": {
      "text/plain": [
       "Timestamp('2012-01-27 00:00:00')"
      ]
     },
     "execution_count": 47,
     "metadata": {},
     "output_type": "execute_result"
    }
   ],
   "source": [
    "jeopardy_data.air_date.max()"
   ]
  },
  {
   "cell_type": "markdown",
   "id": "faea6f95",
   "metadata": {},
   "source": [
    "We were right! Now as we are using pandas, we can look for how many questions about pandas were asked, first we will have to change the data type of the Questions column to string, then we can search it."
   ]
  },
  {
   "cell_type": "code",
   "execution_count": 50,
   "id": "56224886",
   "metadata": {},
   "outputs": [
    {
     "name": "stdout",
     "output_type": "stream",
     "text": [
      "49769     The World Wildlife Fund is working with the Chinese on a detailed survey of pandas & this, their only food\n",
      "49806                    Tiffany sells a collection of jewelry made to look like this woody grass consumed by pandas\n",
      "80415                                            This treelike grass with a woody stem is the favored food of pandas\n",
      "92855      \"Revenge of the Space Pandas\" is a play for children by this playwright better known for profane dialogue\n",
      "100925               Because they can't digest cellulose, pandas may eat 90 pounds a day of the shoots of this plant\n",
      "106940                                                   Giant pandas;  the movie \"Citizen Kane\";  a clear-cut issue\n",
      "125394                                    Pandas have an enlarged wristbone that functions like this digit in humans\n",
      "147179                                                        This scientific field that might study pandas or pumas\n",
      "153609                                                               Like pandas, some lemurs dine primarily on this\n",
      "175508                                                        A panda car isn't driven by pandas but by these people\n",
      "Name: question, dtype: object\n"
     ]
    }
   ],
   "source": [
    "jeopardy_data.question.astype(str)\n",
    "def filter_data(data, words):\n",
    "  filter = lambda x: all(word.lower() in x.lower() for word in words)\n",
    "  return data.loc[data[\"question\"].apply(filter)]\n",
    "\n",
    "filtered = filter_data(jeopardy_data, [\"Panda\", \"Pandas\"])\n",
    "print(filtered[\"question\"])"
   ]
  },
  {
   "cell_type": "code",
   "execution_count": null,
   "id": "88d21e6c",
   "metadata": {},
   "outputs": [],
   "source": []
  }
 ],
 "metadata": {
  "kernelspec": {
   "display_name": "Python 3 (ipykernel)",
   "language": "python",
   "name": "python3"
  },
  "language_info": {
   "codemirror_mode": {
    "name": "ipython",
    "version": 3
   },
   "file_extension": ".py",
   "mimetype": "text/x-python",
   "name": "python",
   "nbconvert_exporter": "python",
   "pygments_lexer": "ipython3",
   "version": "3.9.13"
  }
 },
 "nbformat": 4,
 "nbformat_minor": 5
}
